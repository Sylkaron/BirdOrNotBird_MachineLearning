{
 "cells": [
  {
   "cell_type": "markdown",
   "id": "a387d1fb",
   "metadata": {},
   "source": [
    "# Prétraitement des données "
   ]
  },
  {
   "cell_type": "markdown",
   "id": "68897d1f",
   "metadata": {},
   "source": [
    "Les données suivantes : les labels dans le fichier ff1010bird_metadata.csv et tous les enregistrements du type 64486.wav ont été téléchargés depuis le site suivant : http://machine-listening.eecs.qmul.ac.uk/bird-audio-detection-challenge/"
   ]
  },
  {
   "cell_type": "code",
   "execution_count": 1,
   "id": "900dbb85",
   "metadata": {},
   "outputs": [],
   "source": [
    "import pandas as pd\n",
    "import numpy as np\n",
    "import scipy.io.wavfile as wave"
   ]
  },
  {
   "cell_type": "code",
   "execution_count": 2,
   "id": "e81f2290",
   "metadata": {},
   "outputs": [
    {
     "data": {
      "text/html": [
       "<div>\n",
       "<style scoped>\n",
       "    .dataframe tbody tr th:only-of-type {\n",
       "        vertical-align: middle;\n",
       "    }\n",
       "\n",
       "    .dataframe tbody tr th {\n",
       "        vertical-align: top;\n",
       "    }\n",
       "\n",
       "    .dataframe thead th {\n",
       "        text-align: right;\n",
       "    }\n",
       "</style>\n",
       "<table border=\"1\" class=\"dataframe\">\n",
       "  <thead>\n",
       "    <tr style=\"text-align: right;\">\n",
       "      <th></th>\n",
       "      <th>hasbird</th>\n",
       "    </tr>\n",
       "    <tr>\n",
       "      <th>itemid</th>\n",
       "      <th></th>\n",
       "    </tr>\n",
       "  </thead>\n",
       "  <tbody>\n",
       "    <tr>\n",
       "      <th>64486</th>\n",
       "      <td>0</td>\n",
       "    </tr>\n",
       "    <tr>\n",
       "      <th>2525</th>\n",
       "      <td>0</td>\n",
       "    </tr>\n",
       "    <tr>\n",
       "      <th>44981</th>\n",
       "      <td>0</td>\n",
       "    </tr>\n",
       "    <tr>\n",
       "      <th>101323</th>\n",
       "      <td>0</td>\n",
       "    </tr>\n",
       "    <tr>\n",
       "      <th>165746</th>\n",
       "      <td>0</td>\n",
       "    </tr>\n",
       "  </tbody>\n",
       "</table>\n",
       "</div>"
      ],
      "text/plain": [
       "        hasbird\n",
       "itemid         \n",
       "64486         0\n",
       "2525          0\n",
       "44981         0\n",
       "101323        0\n",
       "165746        0"
      ]
     },
     "execution_count": 2,
     "metadata": {},
     "output_type": "execute_result"
    }
   ],
   "source": [
    "dfBird = pd.read_csv('ff1010bird_metadata.csv',index_col='itemid')\n",
    "\n",
    "dfBird.head()"
   ]
  },
  {
   "cell_type": "markdown",
   "id": "b5a1f389",
   "metadata": {},
   "source": [
    "Le code suivant permet de calculer le spectre de chacun des enregistrements, de calculer la moyenne pour 1000 valeurs du spectre c'est-à-dire de faire une moyenne des valeurs d'amplitude pour 100Hz le tout entre 0 et 20000Hz qui correspond à la plage de son audible par l'humain. Au delà de 20000Hz ce sont des ultrasons et les oiseaux n'en émettent pas."
   ]
  },
  {
   "cell_type": "markdown",
   "id": "32780161",
   "metadata": {},
   "source": [
    "Enfin il permet ensuite de stocker ce dataframe contenant les labels et les données du spectre réduit pour chacun des 7690 enregistrements dans un fichier spectre.csv."
   ]
  },
  {
   "cell_type": "markdown",
   "id": "8ae3493f",
   "metadata": {},
   "source": [
    "Ce code est assez long à s'éxécuter puisque l'écriture dans le calcul du spectre mais surtout l'écriture dans le dataframe sont des opérations assez longues. Il met donc environ 30 minutes à s'éxécuter."
   ]
  },
  {
   "cell_type": "code",
   "execution_count": null,
   "id": "3de3c5ba",
   "metadata": {},
   "outputs": [],
   "source": [
    "fmax = 20000\n",
    "\n",
    "freq=range(0,fmax,100)\n",
    "\n",
    "df=pd.DataFrame(index=dfBird.index,columns=freq)\n",
    "\n",
    "df.insert(0,'hasBird',dfBird['hasbird'])\n",
    "\n",
    "spectre_reduit=np.zeros(int(fmax/100))\n",
    "\n",
    "for sound in df.index:\n",
    "\n",
    "    file=\"D://dev//Projet Machine Learning//wav//\"+str(sound)+\".wav\"\n",
    "\n",
    "    rate,data=wave.read(file)\n",
    "    \n",
    "    spectre = np.absolute(np.fft.fft(data[0:441000]))\n",
    "    \n",
    "    spectre = spectre / spectre.max()\n",
    "    \n",
    "    for i in range(int(fmax/100)):\n",
    "        \n",
    "        spectre_reduit[i]=np.mean(spectre[i*1000:i*1000+1000])\n",
    "        \n",
    "    df.loc[[sound],freq]=spectre_reduit\n",
    "    \n",
    "df.to_csv('..//spectre.csv')"
   ]
  }
 ],
 "metadata": {
  "kernelspec": {
   "display_name": "Python 3 (ipykernel)",
   "language": "python",
   "name": "python3"
  },
  "language_info": {
   "codemirror_mode": {
    "name": "ipython",
    "version": 3
   },
   "file_extension": ".py",
   "mimetype": "text/x-python",
   "name": "python",
   "nbconvert_exporter": "python",
   "pygments_lexer": "ipython3",
   "version": "3.8.12"
  }
 },
 "nbformat": 4,
 "nbformat_minor": 5
}
