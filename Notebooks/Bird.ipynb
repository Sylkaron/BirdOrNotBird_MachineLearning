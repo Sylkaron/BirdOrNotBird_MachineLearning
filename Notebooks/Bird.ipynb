{
 "cells": [
  {
   "cell_type": "markdown",
   "id": "4ff0e6e7",
   "metadata": {},
   "source": [
    "# Projet de machine learning : Détection d'oiseau dans un enregistrement sonore"
   ]
  },
  {
   "cell_type": "markdown",
   "id": "50855c52",
   "metadata": {},
   "source": [
    "Ce notebook présente les différents modèles testé afin de répondre à la problématique le pré-traitement des données permettant de construire le fichier spectre.csv se trouve dans le notebook prepocessing.ipynb"
   ]
  },
  {
   "cell_type": "markdown",
   "id": "f013d4b1",
   "metadata": {},
   "source": [
    "## 1. Chargement des données"
   ]
  },
  {
   "cell_type": "code",
   "execution_count": 1,
   "id": "76144941",
   "metadata": {},
   "outputs": [],
   "source": [
    "import numpy as np\n",
    "import pandas as pd\n",
    "import matplotlib.pyplot as plt\n",
    "from sklearn.model_selection import train_test_split\n",
    "from sklearn.linear_model import LogisticRegression\n",
    "from sklearn.model_selection import cross_val_score"
   ]
  },
  {
   "cell_type": "code",
   "execution_count": 2,
   "id": "aea4fe73",
   "metadata": {},
   "outputs": [
    {
     "data": {
      "text/html": [
       "<div>\n",
       "<style scoped>\n",
       "    .dataframe tbody tr th:only-of-type {\n",
       "        vertical-align: middle;\n",
       "    }\n",
       "\n",
       "    .dataframe tbody tr th {\n",
       "        vertical-align: top;\n",
       "    }\n",
       "\n",
       "    .dataframe thead th {\n",
       "        text-align: right;\n",
       "    }\n",
       "</style>\n",
       "<table border=\"1\" class=\"dataframe\">\n",
       "  <thead>\n",
       "    <tr style=\"text-align: right;\">\n",
       "      <th></th>\n",
       "      <th>hasBird</th>\n",
       "      <th>0</th>\n",
       "      <th>100</th>\n",
       "      <th>200</th>\n",
       "      <th>300</th>\n",
       "      <th>400</th>\n",
       "      <th>500</th>\n",
       "      <th>600</th>\n",
       "      <th>700</th>\n",
       "      <th>800</th>\n",
       "      <th>...</th>\n",
       "      <th>19000</th>\n",
       "      <th>19100</th>\n",
       "      <th>19200</th>\n",
       "      <th>19300</th>\n",
       "      <th>19400</th>\n",
       "      <th>19500</th>\n",
       "      <th>19600</th>\n",
       "      <th>19700</th>\n",
       "      <th>19800</th>\n",
       "      <th>19900</th>\n",
       "    </tr>\n",
       "    <tr>\n",
       "      <th>itemid</th>\n",
       "      <th></th>\n",
       "      <th></th>\n",
       "      <th></th>\n",
       "      <th></th>\n",
       "      <th></th>\n",
       "      <th></th>\n",
       "      <th></th>\n",
       "      <th></th>\n",
       "      <th></th>\n",
       "      <th></th>\n",
       "      <th></th>\n",
       "      <th></th>\n",
       "      <th></th>\n",
       "      <th></th>\n",
       "      <th></th>\n",
       "      <th></th>\n",
       "      <th></th>\n",
       "      <th></th>\n",
       "      <th></th>\n",
       "      <th></th>\n",
       "      <th></th>\n",
       "    </tr>\n",
       "  </thead>\n",
       "  <tbody>\n",
       "    <tr>\n",
       "      <th>55</th>\n",
       "      <td>0</td>\n",
       "      <td>0.046503</td>\n",
       "      <td>0.052254</td>\n",
       "      <td>0.031297</td>\n",
       "      <td>0.016394</td>\n",
       "      <td>0.015485</td>\n",
       "      <td>0.019629</td>\n",
       "      <td>0.011567</td>\n",
       "      <td>0.006598</td>\n",
       "      <td>0.005619</td>\n",
       "      <td>...</td>\n",
       "      <td>0.000149</td>\n",
       "      <td>0.000093</td>\n",
       "      <td>0.000080</td>\n",
       "      <td>0.000076</td>\n",
       "      <td>0.000078</td>\n",
       "      <td>0.000076</td>\n",
       "      <td>0.000075</td>\n",
       "      <td>0.000074</td>\n",
       "      <td>0.000072</td>\n",
       "      <td>0.000069</td>\n",
       "    </tr>\n",
       "    <tr>\n",
       "      <th>87</th>\n",
       "      <td>0</td>\n",
       "      <td>0.190540</td>\n",
       "      <td>0.036987</td>\n",
       "      <td>0.019515</td>\n",
       "      <td>0.049982</td>\n",
       "      <td>0.126856</td>\n",
       "      <td>0.059926</td>\n",
       "      <td>0.018224</td>\n",
       "      <td>0.011003</td>\n",
       "      <td>0.007375</td>\n",
       "      <td>...</td>\n",
       "      <td>0.000002</td>\n",
       "      <td>0.000002</td>\n",
       "      <td>0.000002</td>\n",
       "      <td>0.000002</td>\n",
       "      <td>0.000002</td>\n",
       "      <td>0.000002</td>\n",
       "      <td>0.000002</td>\n",
       "      <td>0.000002</td>\n",
       "      <td>0.000002</td>\n",
       "      <td>0.000002</td>\n",
       "    </tr>\n",
       "    <tr>\n",
       "      <th>99</th>\n",
       "      <td>0</td>\n",
       "      <td>0.239988</td>\n",
       "      <td>0.223260</td>\n",
       "      <td>0.166995</td>\n",
       "      <td>0.171129</td>\n",
       "      <td>0.203208</td>\n",
       "      <td>0.133131</td>\n",
       "      <td>0.141840</td>\n",
       "      <td>0.117775</td>\n",
       "      <td>0.126883</td>\n",
       "      <td>...</td>\n",
       "      <td>0.000183</td>\n",
       "      <td>0.000182</td>\n",
       "      <td>0.000182</td>\n",
       "      <td>0.000182</td>\n",
       "      <td>0.000182</td>\n",
       "      <td>0.000181</td>\n",
       "      <td>0.000181</td>\n",
       "      <td>0.000181</td>\n",
       "      <td>0.000180</td>\n",
       "      <td>0.000181</td>\n",
       "    </tr>\n",
       "    <tr>\n",
       "      <th>100</th>\n",
       "      <td>1</td>\n",
       "      <td>0.089195</td>\n",
       "      <td>0.107197</td>\n",
       "      <td>0.072524</td>\n",
       "      <td>0.061859</td>\n",
       "      <td>0.054955</td>\n",
       "      <td>0.048336</td>\n",
       "      <td>0.047380</td>\n",
       "      <td>0.046404</td>\n",
       "      <td>0.101157</td>\n",
       "      <td>...</td>\n",
       "      <td>0.000020</td>\n",
       "      <td>0.000020</td>\n",
       "      <td>0.000020</td>\n",
       "      <td>0.000020</td>\n",
       "      <td>0.000021</td>\n",
       "      <td>0.000019</td>\n",
       "      <td>0.000020</td>\n",
       "      <td>0.000020</td>\n",
       "      <td>0.000020</td>\n",
       "      <td>0.000020</td>\n",
       "    </tr>\n",
       "    <tr>\n",
       "      <th>104</th>\n",
       "      <td>0</td>\n",
       "      <td>0.136297</td>\n",
       "      <td>0.194051</td>\n",
       "      <td>0.138342</td>\n",
       "      <td>0.138522</td>\n",
       "      <td>0.142344</td>\n",
       "      <td>0.156182</td>\n",
       "      <td>0.161801</td>\n",
       "      <td>0.147858</td>\n",
       "      <td>0.123645</td>\n",
       "      <td>...</td>\n",
       "      <td>0.000015</td>\n",
       "      <td>0.000015</td>\n",
       "      <td>0.000015</td>\n",
       "      <td>0.000015</td>\n",
       "      <td>0.000015</td>\n",
       "      <td>0.000015</td>\n",
       "      <td>0.000015</td>\n",
       "      <td>0.000015</td>\n",
       "      <td>0.000015</td>\n",
       "      <td>0.000015</td>\n",
       "    </tr>\n",
       "  </tbody>\n",
       "</table>\n",
       "<p>5 rows × 201 columns</p>\n",
       "</div>"
      ],
      "text/plain": [
       "        hasBird         0       100       200       300       400       500  \\\n",
       "itemid                                                                        \n",
       "55            0  0.046503  0.052254  0.031297  0.016394  0.015485  0.019629   \n",
       "87            0  0.190540  0.036987  0.019515  0.049982  0.126856  0.059926   \n",
       "99            0  0.239988  0.223260  0.166995  0.171129  0.203208  0.133131   \n",
       "100           1  0.089195  0.107197  0.072524  0.061859  0.054955  0.048336   \n",
       "104           0  0.136297  0.194051  0.138342  0.138522  0.142344  0.156182   \n",
       "\n",
       "             600       700       800  ...     19000     19100     19200  \\\n",
       "itemid                                ...                                 \n",
       "55      0.011567  0.006598  0.005619  ...  0.000149  0.000093  0.000080   \n",
       "87      0.018224  0.011003  0.007375  ...  0.000002  0.000002  0.000002   \n",
       "99      0.141840  0.117775  0.126883  ...  0.000183  0.000182  0.000182   \n",
       "100     0.047380  0.046404  0.101157  ...  0.000020  0.000020  0.000020   \n",
       "104     0.161801  0.147858  0.123645  ...  0.000015  0.000015  0.000015   \n",
       "\n",
       "           19300     19400     19500     19600     19700     19800     19900  \n",
       "itemid                                                                        \n",
       "55      0.000076  0.000078  0.000076  0.000075  0.000074  0.000072  0.000069  \n",
       "87      0.000002  0.000002  0.000002  0.000002  0.000002  0.000002  0.000002  \n",
       "99      0.000182  0.000182  0.000181  0.000181  0.000181  0.000180  0.000181  \n",
       "100     0.000020  0.000021  0.000019  0.000020  0.000020  0.000020  0.000020  \n",
       "104     0.000015  0.000015  0.000015  0.000015  0.000015  0.000015  0.000015  \n",
       "\n",
       "[5 rows x 201 columns]"
      ]
     },
     "execution_count": 2,
     "metadata": {},
     "output_type": "execute_result"
    }
   ],
   "source": [
    "df=pd.read_csv(\"spectre.csv\",index_col='itemid').sort_index()\n",
    "\n",
    "df.head()"
   ]
  },
  {
   "cell_type": "code",
   "execution_count": 3,
   "id": "b6256b3c",
   "metadata": {},
   "outputs": [
    {
     "name": "stdout",
     "output_type": "stream",
     "text": [
      "(5152, 200) (2538, 200)\n"
     ]
    }
   ],
   "source": [
    "freq=range(0,20000,100)\n",
    "\n",
    "X=df.drop(['hasBird'],axis=1)\n",
    "\n",
    "y=df['hasBird']\n",
    "\n",
    "X_train, X_test, y_train, y_test = train_test_split(X, y, test_size=0.33)\n",
    "\n",
    "print(X_train.shape,X_test.shape)"
   ]
  },
  {
   "cell_type": "markdown",
   "id": "5818f443",
   "metadata": {},
   "source": [
    "## 2. Tests de différents modèles de machine learning"
   ]
  },
  {
   "cell_type": "markdown",
   "id": "9f45e0ed",
   "metadata": {},
   "source": [
    "### 2.1. Régression logistique"
   ]
  },
  {
   "cell_type": "code",
   "execution_count": 4,
   "id": "3ef8851a",
   "metadata": {},
   "outputs": [
    {
     "name": "stdout",
     "output_type": "stream",
     "text": [
      "0.7721273291925466 0.7734436564223798\n",
      "[0.77438231 0.77893368 0.76723017 0.76853056 0.77048114]\n",
      "0.7719115734720416\n"
     ]
    }
   ],
   "source": [
    "clf_lr = LogisticRegression(solver='lbfgs')\n",
    "\n",
    "clf_lr.fit(X_train,y_train)\n",
    "\n",
    "train_score = clf_lr.score(X_train,y_train)\n",
    "test_score = clf_lr.score(X_test,y_test)\n",
    "cross_val=cross_val_score(clf_lr,X,y,cv=5)\n",
    "\n",
    "print(train_score,test_score)\n",
    "\n",
    "print(cross_val)\n",
    "\n",
    "print(cross_val.mean())"
   ]
  },
  {
   "cell_type": "markdown",
   "id": "bbed38b6",
   "metadata": {},
   "source": [
    "### 2.2. Arbre de décision"
   ]
  },
  {
   "cell_type": "code",
   "execution_count": 5,
   "id": "71d6d125",
   "metadata": {},
   "outputs": [
    {
     "name": "stdout",
     "output_type": "stream",
     "text": [
      "1.0 0.7289204097714737\n",
      "[0.69245774 0.72041612 0.7236671  0.70936281 0.72171651]\n",
      "0.713524057217165\n"
     ]
    }
   ],
   "source": [
    "from sklearn import tree\n",
    "\n",
    "clf_tree = tree.DecisionTreeClassifier()\n",
    "clf_tree = clf_tree.fit(X_train, y_train)\n",
    "\n",
    "train_score = clf_tree.score(X_train,y_train)\n",
    "test_score = clf_tree.score(X_test,y_test)\n",
    "\n",
    "cross_val=cross_val_score(clf_tree,X,y,cv=5)\n",
    "\n",
    "print(train_score,test_score)\n",
    "\n",
    "print(cross_val)\n",
    "\n",
    "print(cross_val.mean())"
   ]
  },
  {
   "cell_type": "markdown",
   "id": "54d2c03d",
   "metadata": {},
   "source": [
    "### 2.3. Plus proches voisins"
   ]
  },
  {
   "cell_type": "code",
   "execution_count": 6,
   "id": "f11aa182",
   "metadata": {},
   "outputs": [
    {
     "name": "stdout",
     "output_type": "stream",
     "text": [
      "0.859277950310559 0.7663514578408196\n",
      "[0.77113134 0.77243173 0.7496749  0.73862159 0.75812744]\n",
      "0.7579973992197659\n"
     ]
    }
   ],
   "source": [
    "from sklearn.neighbors import KNeighborsClassifier\n",
    "clf_nn = KNeighborsClassifier(n_neighbors=3)\n",
    "\n",
    "clf_nn.fit(X_train,y_train)\n",
    "\n",
    "train_score = clf_nn.score(X_train,y_train)\n",
    "test_score = clf_nn.score(X_test,y_test)\n",
    "\n",
    "cross_val=cross_val_score(clf_nn,X,y,cv=5)\n",
    "\n",
    "print(train_score,test_score)\n",
    "\n",
    "print(cross_val)\n",
    "\n",
    "print(cross_val.mean())"
   ]
  },
  {
   "cell_type": "markdown",
   "id": "86647a44",
   "metadata": {},
   "source": [
    "### 2.4. SVM"
   ]
  },
  {
   "cell_type": "code",
   "execution_count": 7,
   "id": "01ceb73a",
   "metadata": {},
   "outputs": [
    {
     "name": "stdout",
     "output_type": "stream",
     "text": [
      "0.8039596273291926 0.7923561859732072\n",
      "[0.80884265 0.77828349 0.77178153 0.77373212 0.78478544]\n",
      "0.7834850455136542\n"
     ]
    }
   ],
   "source": [
    "from sklearn import svm\n",
    "\n",
    "clf_svm=svm.SVC()\n",
    "\n",
    "clf_svm.fit(X_train,y_train)\n",
    "\n",
    "train_score = clf_svm.score(X_train,y_train)\n",
    "test_score = clf_svm.score(X_test,y_test)\n",
    "\n",
    "cross_val=cross_val_score(clf_svm,X,y,cv=5)\n",
    "\n",
    "print(train_score,test_score)\n",
    "\n",
    "print(cross_val)\n",
    "\n",
    "print(cross_val.mean())"
   ]
  },
  {
   "cell_type": "markdown",
   "id": "31e61553",
   "metadata": {},
   "source": [
    "## 3. Test avec un réseau profond"
   ]
  },
  {
   "cell_type": "code",
   "execution_count": 8,
   "id": "580f233e",
   "metadata": {
    "scrolled": true
   },
   "outputs": [
    {
     "name": "stdout",
     "output_type": "stream",
     "text": [
      "Epoch 1/10\n",
      "52/52 [==============================] - 1s 3ms/step - loss: 1.1696 - accuracy: 0.7318\n",
      "Epoch 2/10\n",
      "52/52 [==============================] - 0s 3ms/step - loss: 0.5301 - accuracy: 0.7615\n",
      "Epoch 3/10\n",
      "52/52 [==============================] - 0s 3ms/step - loss: 0.5055 - accuracy: 0.7781\n",
      "Epoch 4/10\n",
      "52/52 [==============================] - 0s 3ms/step - loss: 0.4944 - accuracy: 0.7822\n",
      "Epoch 5/10\n",
      "52/52 [==============================] - 0s 3ms/step - loss: 0.4903 - accuracy: 0.7851\n",
      "Epoch 6/10\n",
      "52/52 [==============================] - 0s 3ms/step - loss: 0.4817 - accuracy: 0.7913\n",
      "Epoch 7/10\n",
      "52/52 [==============================] - 0s 3ms/step - loss: 0.4785 - accuracy: 0.7933\n",
      "Epoch 8/10\n",
      "52/52 [==============================] - 0s 2ms/step - loss: 0.4762 - accuracy: 0.7917\n",
      "Epoch 9/10\n",
      "52/52 [==============================] - 0s 2ms/step - loss: 0.4747 - accuracy: 0.7933\n",
      "Epoch 10/10\n",
      "52/52 [==============================] - 0s 3ms/step - loss: 0.4737 - accuracy: 0.7900\n",
      "80/80 [==============================] - 0s 1ms/step - loss: 0.4709 - accuracy: 0.8022\n"
     ]
    },
    {
     "data": {
      "text/plain": [
       "[0.47087550163269043, 0.8022064566612244]"
      ]
     },
     "execution_count": 8,
     "metadata": {},
     "output_type": "execute_result"
    }
   ],
   "source": [
    "from tensorflow.keras.models import Sequential\n",
    "from tensorflow.keras.layers import Dense, Dropout\n",
    "\n",
    "model = Sequential([\n",
    "    Dropout(.2, input_shape=(200,)),\n",
    "    Dense(128, activation='relu'),\n",
    "    Dense(128, activation='relu'),\n",
    "    Dense(128, activation='relu'),\n",
    "    Dense(10, activation='softmax')\n",
    "])\n",
    "\n",
    "model.compile(optimizer='adam',\n",
    "              loss='sparse_categorical_crossentropy',\n",
    "              metrics=['accuracy'])\n",
    "\n",
    "model.fit(X_train, y_train, epochs=10, batch_size=100)\n",
    "\n",
    "model.evaluate(X_test, y_test)"
   ]
  },
  {
   "cell_type": "markdown",
   "id": "d61f1861",
   "metadata": {},
   "source": [
    "## 4. Export du meilleur classifieur "
   ]
  },
  {
   "cell_type": "markdown",
   "id": "480463cc",
   "metadata": {},
   "source": [
    "Le meilleur classifieur est le Support-vector Machine (svm) d'après son score."
   ]
  },
  {
   "cell_type": "code",
   "execution_count": 9,
   "id": "a6d65462",
   "metadata": {},
   "outputs": [],
   "source": [
    "from joblib import dump"
   ]
  },
  {
   "cell_type": "code",
   "execution_count": 10,
   "id": "963c99db",
   "metadata": {},
   "outputs": [
    {
     "data": {
      "text/plain": [
       "['classifier.joblib']"
      ]
     },
     "execution_count": 10,
     "metadata": {},
     "output_type": "execute_result"
    }
   ],
   "source": [
    "dump(clf_svm,'classifier.joblib')"
   ]
  }
 ],
 "metadata": {
  "kernelspec": {
   "display_name": "Python 3 (ipykernel)",
   "language": "python",
   "name": "python3"
  },
  "language_info": {
   "codemirror_mode": {
    "name": "ipython",
    "version": 3
   },
   "file_extension": ".py",
   "mimetype": "text/x-python",
   "name": "python",
   "nbconvert_exporter": "python",
   "pygments_lexer": "ipython3",
   "version": "3.8.12"
  }
 },
 "nbformat": 4,
 "nbformat_minor": 5
}
