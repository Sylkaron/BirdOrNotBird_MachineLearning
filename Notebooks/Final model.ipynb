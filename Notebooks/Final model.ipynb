{
 "cells": [
  {
   "cell_type": "markdown",
   "id": "f8e4dc21",
   "metadata": {},
   "source": [
    "# Modèle final permettant de détecter la présence d'oiseaux"
   ]
  },
  {
   "cell_type": "markdown",
   "id": "3d5eb793",
   "metadata": {},
   "source": [
    "La fonction hasBird importe le claffisieur svm définit précédemment, calcule le spectre du fichier audio, applique le classifieur et enfin renvoie True s'il détecte un oiseau et False sinon."
   ]
  },
  {
   "cell_type": "code",
   "execution_count": 1,
   "id": "34d00996",
   "metadata": {},
   "outputs": [],
   "source": [
    "from joblib import load\n",
    "import pandas as pd\n",
    "import numpy as np\n",
    "import scipy.io.wavfile as wave"
   ]
  },
  {
   "cell_type": "code",
   "execution_count": 2,
   "id": "99858758",
   "metadata": {},
   "outputs": [],
   "source": [
    "def hasBird(filepath):\n",
    "    clf=load('classifier.joblib')\n",
    "    \n",
    "    rate,data=wave.read(filepath)\n",
    "\n",
    "    fmax = 20000\n",
    "\n",
    "    spectre_reduit=np.zeros(int(fmax/100))\n",
    "\n",
    "    spectre = np.absolute(np.fft.fft(data[0:441000]))\n",
    "    \n",
    "    spectre = spectre / spectre.max()\n",
    "    \n",
    "    for i in range(int(fmax/100)):\n",
    "        \n",
    "        spectre_reduit[i]=np.mean(spectre[i*1000:i*1000+1000])\n",
    "    \n",
    "    hasBird=clf.predict(spectre_reduit.reshape(1,-1))[0]\n",
    "    \n",
    "    return hasBird==1"
   ]
  },
  {
   "cell_type": "code",
   "execution_count": 3,
   "id": "503816a6",
   "metadata": {},
   "outputs": [
    {
     "data": {
      "text/plain": [
       "False"
      ]
     },
     "execution_count": 3,
     "metadata": {},
     "output_type": "execute_result"
    }
   ],
   "source": [
    "hasBird(\"D://dev//Projet Machine Learning//wav//19037.wav\")"
   ]
  },
  {
   "cell_type": "code",
   "execution_count": 4,
   "id": "7e38ec7d",
   "metadata": {},
   "outputs": [
    {
     "data": {
      "text/plain": [
       "True"
      ]
     },
     "execution_count": 4,
     "metadata": {},
     "output_type": "execute_result"
    }
   ],
   "source": [
    "hasBird(\"D://dev//Projet Machine Learning//wav//7320.wav\")"
   ]
  }
 ],
 "metadata": {
  "kernelspec": {
   "display_name": "Python 3 (ipykernel)",
   "language": "python",
   "name": "python3"
  },
  "language_info": {
   "codemirror_mode": {
    "name": "ipython",
    "version": 3
   },
   "file_extension": ".py",
   "mimetype": "text/x-python",
   "name": "python",
   "nbconvert_exporter": "python",
   "pygments_lexer": "ipython3",
   "version": "3.8.12"
  }
 },
 "nbformat": 4,
 "nbformat_minor": 5
}
